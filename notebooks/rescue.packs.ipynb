{
 "cells": [
  {
   "cell_type": "markdown",
   "metadata": {},
   "source": [
    "## COPD \"Rescue Packs\"\n",
    "A COPD \"rescue pack\" is a prescriptin for a short course of steroids and antibiotics that are issued in advance and a person with COPD keeps on-hand to use when they identify and self-diagnose an exacerbation in line with a their management plan. A [Cochrane review](https://www.cochrane.org/CD011682/AIRWAYS_self-management-interventions-including-action-plans-patients-chronic-obstructive-pulmonary-disease) has found  _the number of people who had at least one hospital admission related to lung disease was reduced among those who participated in a self-management intervention (moderate-quality evidence)_."
   ]
  },
  {
   "cell_type": "markdown",
   "metadata": {},
   "source": [
    "In the event of an exacerbation [NICE recommends prescription](https://www.nice.org.uk/guidance/ng115/resources/chronic-obstructive-pulmonary-disease-in-over-16s-diagnosis-and-management-pdf-66141600098245) of a short course of oral steroids and antibiotics to treat an exacerbation. Where appropriate these may be issued in advance to people with self management plans. The following notebooks contains SnoMed/[NHS Dictionary of Medicines and Devices](https://ebmdatalab.net/what-is-the-dmd-the-nhs-dictionary-of-medicines-and-devices/) codes to identify these medicines in a electronic health record. When applying to an EHR we should identify presence of a steroid and antibiotic issued on the same day. NICE currently recommends five days but we will use a week to be pragmatic in case a GP has chose to give slightly longer. We should also look for 10 days as sme practices may issue two rescue packs on a single prescription.\n",
    "\n",
    "- [Steroids](#pred)\n",
    "- [Antibiotics](#abx)"
   ]
  },
  {
   "cell_type": "code",
   "execution_count": null,
   "metadata": {},
   "outputs": [],
   "source": [
    "from ebmdatalab import bq\n",
    "import os\n",
    "import pandas as pd"
   ]
  },
  {
   "cell_type": "code",
   "execution_count": null,
   "metadata": {},
   "outputs": [],
   "source": [
    "## Steroid <a id='pred'></a>\n",
    "\n",
    "NICE guidance advises 30 mg oral prednisolone once daily for 5 days — discuss adverse effects of prolonged therapy.\n",
    "Consider the need for osteoporosis prophylaxis for people requiring frequent courses of oral corticosteroids (3–4 courses per year).\n",
    "\n"
   ]
  },
  {
   "cell_type": "code",
   "execution_count": null,
   "metadata": {},
   "outputs": [],
   "source": []
  },
  {
   "cell_type": "code",
   "execution_count": null,
   "metadata": {},
   "outputs": [],
   "source": [
    "sql = '''WITH bnf_codes AS (\n",
    " SELECT DISTINCT bnf_code FROM measures.dmd_objs_with_form_route WHERE \n",
    "    (bnf_code LIKE '0301020U0%' OR        #BNF Aclidinium Brom/Formoterol\n",
    "    bnf_code LIKE '0301040W0%'  OR        #BNF Umeclidinium bromide / Vilanterol\n",
    "    bnf_code LIKE '0301040X0%'  OR        #BNF Tiotropium bromide  / Olodaterol\n",
    "    bnf_code LIKE '0302000V0%'  OR        #BNF Fluticasone + Umeclidinium bromide + Vilanterol\n",
    "    bnf_code LIKE '0301011AB%'  OR        #BNF Beclometasone + Formoterol + Glycopyrronium bromide\n",
    "    bnf_code LIKE '0301040Y0%')          #BNF Indacaterol 85micrograms/dose / Glycopyrronium bromide\n",
    "    AND \n",
    "    form_route NOT LIKE '%neb%'     #exclude to nebules through name search\n",
    "\n",
    "  )\n",
    "  \n",
    "SELECT \"vmp\" AS type, id, bnf_code, nm\n",
    "FROM dmd.vmp\n",
    "WHERE bnf_code IN (SELECT * FROM bnf_codes)\n",
    "\n",
    "UNION ALL\n",
    "\n",
    "SELECT \"amp\" AS type, id, bnf_code, descr\n",
    "FROM dmd.amp\n",
    "WHERE bnf_code IN (SELECT * FROM bnf_codes)\n",
    "\n",
    "ORDER BY type, nm, bnf_code, id'''\n",
    "\n",
    "lama_multi_codelist = bq.cached_read(sql, csv_path=os.path.join('..','data','lama_multi_codelist.csv'))\n",
    "pd.set_option('display.max_rows', None)\n",
    "pd.set_option('display.max_colwidth', None)\n",
    "lama_multi_codelist"
   ]
  },
  {
   "cell_type": "markdown",
   "metadata": {},
   "source": [
    "## Antibioitcs <a id='abx'></a>\n",
    "\n",
    "\n",
    "Amoxicillin 500 mg three times a day for 5 days.\n",
    "Doxycycline 200 mg on first day, then 100mg once a day for 5-day course in total.\n",
    "Clarithromycin 500 mg twice a day for 5 days."
   ]
  },
  {
   "cell_type": "code",
   "execution_count": null,
   "metadata": {},
   "outputs": [],
   "source": [
    "Amoxicillin 500 mg three times a day for 5 days.\n",
    "Doxycycline 200 mg on first day, then 100mg once a day for 5-day course in total.\n",
    "Clarithromycin 500 mg twice a day for 5 days."
   ]
  },
  {
   "cell_type": "code",
   "execution_count": null,
   "metadata": {},
   "outputs": [],
   "source": []
  }
 ],
 "metadata": {
  "jupytext": {
   "cell_metadata_filter": "all",
   "notebook_metadata_filter": "all,-language_info",
   "text_representation": {
    "extension": ".py",
    "format_name": "light",
    "format_version": "1.5",
    "jupytext_version": "1.3.3"
   }
  },
  "kernelspec": {
   "display_name": "Python 3",
   "language": "python",
   "name": "python3"
  },
  "language_info": {
   "codemirror_mode": {
    "name": "ipython",
    "version": 3
   },
   "file_extension": ".py",
   "mimetype": "text/x-python",
   "name": "python",
   "nbconvert_exporter": "python",
   "pygments_lexer": "ipython3",
   "version": "3.8.1"
  }
 },
 "nbformat": 4,
 "nbformat_minor": 4
}
